{
 "cells": [
  {
   "cell_type": "markdown",
   "id": "cc87e5df-d02d-4fe5-9181-9b08eba0c46b",
   "metadata": {},
   "source": [
    "## Assignment No. 3"
   ]
  },
  {
   "cell_type": "markdown",
   "id": "581435c5-f4dc-409a-83b6-4aa5af661119",
   "metadata": {},
   "source": [
    "<b>#Construct FP(Frequent Pattern) tree suitable programming language for appropriate dataset for association rule mining\n",
    "Explain all the steps of the tree construction and draw tha resulting tree.\n",
    "(Minimum support count threshold for associtaion rules is 2).\n",
    "Based on this tree answer the questions:\n",
    "1. Find maximum frequent item\n",
    "2. How many Transactions does it contain\n",
    "3. Simulate frequent pattern enumeration based on the FT(Frequent Pattern) tree constructed\n",
    "4. Give Comparative analysis of this processs with apriory algorithm</b>\n",
    "   "
   ]
  },
  {
   "cell_type": "markdown",
   "id": "7f93b2a6-63e1-4012-8791-eb996494e8f5",
   "metadata": {},
   "source": [
    "==>\n",
    "Fp Construction steps:\n",
    "1. scan data find support for each item(how many times that datapoints is occured).\n",
    "2. Discard infrequent(count of that datapoint is less than threshold) items.\n",
    "3. Sort frequent items in decreasing order based on their support.\n",
    "4. Rearrange according to decresing order"
   ]
  },
  {
   "cell_type": "code",
   "execution_count": 1,
   "id": "35af10c3-55a9-4b62-8c3b-2a23c9bd497a",
   "metadata": {},
   "outputs": [
    {
     "data": {
      "text/plain": [
       "'\\nTID   Items\\n1     {A,B}\\n2     {B,C,D}\\n3     {A,C,D,E}\\n4     {A,D,E}\\n5     {A,B,C}\\n6     {A,B,C,D}\\n7     {A}\\n8     {A,B,C}\\n9     {A,B,D}\\n10    {B,C,E}\\n'"
      ]
     },
     "execution_count": 1,
     "metadata": {},
     "output_type": "execute_result"
    }
   ],
   "source": [
    "'''\n",
    "TID   Items\n",
    "1     {A,B}\n",
    "2     {B,C,D}\n",
    "3     {A,C,D,E}\n",
    "4     {A,D,E}\n",
    "5     {A,B,C}\n",
    "6     {A,B,C,D}\n",
    "7     {A}\n",
    "8     {A,B,C}\n",
    "9     {A,B,D}\n",
    "10    {B,C,E}\n",
    "'''"
   ]
  },
  {
   "cell_type": "markdown",
   "id": "8c540aa2-d410-4cdb-a919-8667d9344638",
   "metadata": {},
   "source": [
    "# Step 1 : Install Required Library\n",
    "\n",
    "We Will use the mlxtend library, which provides a simple way to implement FP-Growth"
   ]
  },
  {
   "cell_type": "code",
   "execution_count": 2,
   "id": "3b306a63-062b-416b-bc0f-3c7ad71d2862",
   "metadata": {},
   "outputs": [
    {
     "name": "stdout",
     "output_type": "stream",
     "text": [
      "Requirement already satisfied: mlxtend in c:\\users\\hp\\anaconda3\\lib\\site-packages (0.23.1)\n",
      "Requirement already satisfied: scipy>=1.2.1 in c:\\users\\hp\\anaconda3\\lib\\site-packages (from mlxtend) (1.13.1)\n",
      "Requirement already satisfied: numpy>=1.16.2 in c:\\users\\hp\\anaconda3\\lib\\site-packages (from mlxtend) (1.26.4)\n",
      "Requirement already satisfied: pandas>=0.24.2 in c:\\users\\hp\\anaconda3\\lib\\site-packages (from mlxtend) (2.2.2)\n",
      "Requirement already satisfied: scikit-learn>=1.0.2 in c:\\users\\hp\\anaconda3\\lib\\site-packages (from mlxtend) (1.4.2)\n",
      "Requirement already satisfied: matplotlib>=3.0.0 in c:\\users\\hp\\anaconda3\\lib\\site-packages (from mlxtend) (3.8.4)\n",
      "Requirement already satisfied: joblib>=0.13.2 in c:\\users\\hp\\anaconda3\\lib\\site-packages (from mlxtend) (1.4.2)\n",
      "Requirement already satisfied: contourpy>=1.0.1 in c:\\users\\hp\\anaconda3\\lib\\site-packages (from matplotlib>=3.0.0->mlxtend) (1.2.0)\n",
      "Requirement already satisfied: cycler>=0.10 in c:\\users\\hp\\anaconda3\\lib\\site-packages (from matplotlib>=3.0.0->mlxtend) (0.11.0)\n",
      "Requirement already satisfied: fonttools>=4.22.0 in c:\\users\\hp\\anaconda3\\lib\\site-packages (from matplotlib>=3.0.0->mlxtend) (4.51.0)\n",
      "Requirement already satisfied: kiwisolver>=1.3.1 in c:\\users\\hp\\anaconda3\\lib\\site-packages (from matplotlib>=3.0.0->mlxtend) (1.4.4)\n",
      "Requirement already satisfied: packaging>=20.0 in c:\\users\\hp\\anaconda3\\lib\\site-packages (from matplotlib>=3.0.0->mlxtend) (23.2)\n",
      "Requirement already satisfied: pillow>=8 in c:\\users\\hp\\anaconda3\\lib\\site-packages (from matplotlib>=3.0.0->mlxtend) (10.3.0)\n",
      "Requirement already satisfied: pyparsing>=2.3.1 in c:\\users\\hp\\anaconda3\\lib\\site-packages (from matplotlib>=3.0.0->mlxtend) (3.0.9)\n",
      "Requirement already satisfied: python-dateutil>=2.7 in c:\\users\\hp\\anaconda3\\lib\\site-packages (from matplotlib>=3.0.0->mlxtend) (2.9.0.post0)\n",
      "Requirement already satisfied: pytz>=2020.1 in c:\\users\\hp\\anaconda3\\lib\\site-packages (from pandas>=0.24.2->mlxtend) (2024.1)\n",
      "Requirement already satisfied: tzdata>=2022.7 in c:\\users\\hp\\anaconda3\\lib\\site-packages (from pandas>=0.24.2->mlxtend) (2023.3)\n",
      "Requirement already satisfied: threadpoolctl>=2.0.0 in c:\\users\\hp\\anaconda3\\lib\\site-packages (from scikit-learn>=1.0.2->mlxtend) (2.2.0)\n",
      "Requirement already satisfied: six>=1.5 in c:\\users\\hp\\anaconda3\\lib\\site-packages (from python-dateutil>=2.7->matplotlib>=3.0.0->mlxtend) (1.16.0)\n",
      "Note: you may need to restart the kernel to use updated packages.\n"
     ]
    }
   ],
   "source": [
    "pip install mlxtend"
   ]
  },
  {
   "cell_type": "markdown",
   "id": "acb6f212-924a-43c7-af29-739987adc356",
   "metadata": {},
   "source": [
    "# Step 2 : Import Required Libraries"
   ]
  },
  {
   "cell_type": "code",
   "execution_count": 3,
   "id": "47b01610-621d-4902-ac6e-affd18abb742",
   "metadata": {},
   "outputs": [],
   "source": [
    "from mlxtend.frequent_patterns import fpgrowth\n",
    "from mlxtend.frequent_patterns import association_rules\n",
    "import pandas as pd"
   ]
  },
  {
   "cell_type": "markdown",
   "id": "e9bc786c-7a62-4654-b6f5-6ffb34c40a4f",
   "metadata": {},
   "source": [
    "# Step 3 : Define Transactions\n",
    "\n",
    "We need to represent our dataset in a one-hot encoded format"
   ]
  },
  {
   "cell_type": "code",
   "execution_count": 4,
   "id": "05b3eac4-3516-4561-bdf4-11623932a460",
   "metadata": {},
   "outputs": [],
   "source": [
    "#Defining Transactions\n",
    "transactions=[\n",
    "    ['A','B'],\n",
    "    ['B','C','D'],\n",
    "    ['A','C','D','E'],\n",
    "    ['A','D','E'],\n",
    "    ['A','B','C'],\n",
    "    ['A', 'B', 'C', 'D'],\n",
    "    ['A'],\n",
    "    ['A', 'B', 'C'],\n",
    "    ['A', 'B', 'D'],\n",
    "    ['B', 'C', 'E']\n",
    "]"
   ]
  },
  {
   "cell_type": "code",
   "execution_count": 5,
   "id": "c2720a1d-04cc-4ae8-92cc-63b37f3dd6b0",
   "metadata": {},
   "outputs": [],
   "source": [
    "#Get unique Items\n",
    "unique_items=sorted(set(item for sublist in transactions for item in sublist))"
   ]
  },
  {
   "cell_type": "code",
   "execution_count": 6,
   "id": "db048cc1-f452-47e6-8dd6-fde0e3ccb973",
   "metadata": {},
   "outputs": [
    {
     "name": "stdout",
     "output_type": "stream",
     "text": [
      "   A  B  C  D  E\n",
      "0  1  1  0  0  0\n",
      "1  0  1  1  1  0\n",
      "2  1  0  1  1  1\n",
      "3  1  0  0  1  1\n",
      "4  1  1  1  0  0\n",
      "5  1  1  1  1  0\n",
      "6  1  0  0  0  0\n",
      "7  1  1  1  0  0\n",
      "8  1  1  0  1  0\n",
      "9  0  1  1  0  1\n"
     ]
    }
   ],
   "source": [
    "#Convert Transactions to one-hot Encodingabs\n",
    "encoded_data=[]\n",
    "for trans in transactions:\n",
    "    encoded_data.append([1 if item in trans else 0 for item in unique_items])\n",
    "    \n",
    "#Create DataFrame\n",
    "df=pd.DataFrame(encoded_data,columns=unique_items)\n",
    "\n",
    "#Display the Dataset\n",
    "print(df)"
   ]
  },
  {
   "cell_type": "markdown",
   "id": "9d5f531d-e71f-4a74-8436-aace7235e169",
   "metadata": {},
   "source": [
    "# Step 4: Apply FP-Growth Algorithm"
   ]
  },
  {
   "cell_type": "code",
   "execution_count": 7,
   "id": "ee36d813-d1c5-4ab0-8414-c8d2088a1fea",
   "metadata": {},
   "outputs": [
    {
     "name": "stdout",
     "output_type": "stream",
     "text": [
      "Frequent Itemsets: \n",
      "    support   itemsets\n",
      "0       0.8        (A)\n",
      "1       0.7        (B)\n",
      "2       0.6        (C)\n",
      "3       0.5        (D)\n",
      "4       0.3        (E)\n",
      "5       0.5     (B, A)\n",
      "6       0.5     (C, B)\n",
      "7       0.4     (C, A)\n",
      "8       0.3  (C, B, A)\n",
      "9       0.3     (C, D)\n",
      "10      0.3     (B, D)\n",
      "11      0.4     (D, A)\n",
      "12      0.2  (C, D, A)\n",
      "13      0.2  (C, B, D)\n",
      "14      0.2  (B, D, A)\n",
      "15      0.2     (D, E)\n",
      "16      0.2     (C, E)\n",
      "17      0.2     (E, A)\n",
      "18      0.2  (D, E, A)\n"
     ]
    },
    {
     "name": "stderr",
     "output_type": "stream",
     "text": [
      "C:\\Users\\HP\\anaconda3\\Lib\\site-packages\\mlxtend\\frequent_patterns\\fpcommon.py:109: DeprecationWarning: DataFrames with non-bool types result in worse computationalperformance and their support might be discontinued in the future.Please use a DataFrame with bool type\n",
      "  warnings.warn(\n"
     ]
    }
   ],
   "source": [
    "#Apply FP-Growth Algorithm with min_Support=0.2(equivalent to Threshold of 2 out of 10 transactions)\n",
    "frequent_itemsets=fpgrowth(df,min_support=0.2,use_colnames=True)\n",
    "\n",
    "#Display Frequent Itemsets\n",
    "print(\"Frequent Itemsets: \")\n",
    "print(frequent_itemsets)"
   ]
  },
  {
   "cell_type": "markdown",
   "id": "e8e4de3d-1561-4b3e-b572-bdb834b7e802",
   "metadata": {},
   "source": [
    "# Step 5 : Generate Association Rules"
   ]
  },
  {
   "cell_type": "code",
   "execution_count": 8,
   "id": "bd53b3d0-b8d9-4e8c-a0e2-ded32d106109",
   "metadata": {},
   "outputs": [
    {
     "name": "stdout",
     "output_type": "stream",
     "text": [
      "Association Rules: \n",
      "   antecedents consequents  antecedent support  consequent support  support  \\\n",
      "0          (B)         (A)                 0.7                 0.8      0.5   \n",
      "1          (A)         (B)                 0.8                 0.7      0.5   \n",
      "2          (C)         (B)                 0.6                 0.7      0.5   \n",
      "3          (B)         (C)                 0.7                 0.6      0.5   \n",
      "4          (C)         (A)                 0.6                 0.8      0.4   \n",
      "5       (C, B)         (A)                 0.5                 0.8      0.3   \n",
      "6       (C, A)         (B)                 0.4                 0.7      0.3   \n",
      "7       (B, A)         (C)                 0.5                 0.6      0.3   \n",
      "8          (D)         (C)                 0.5                 0.6      0.3   \n",
      "9          (D)         (B)                 0.5                 0.7      0.3   \n",
      "10         (D)         (A)                 0.5                 0.8      0.4   \n",
      "11      (C, D)         (A)                 0.3                 0.8      0.2   \n",
      "12      (C, D)         (B)                 0.3                 0.7      0.2   \n",
      "13      (B, D)         (C)                 0.3                 0.6      0.2   \n",
      "14      (B, D)         (A)                 0.3                 0.8      0.2   \n",
      "15         (E)         (D)                 0.3                 0.5      0.2   \n",
      "16         (E)         (C)                 0.3                 0.6      0.2   \n",
      "17         (E)         (A)                 0.3                 0.8      0.2   \n",
      "18      (D, E)         (A)                 0.2                 0.8      0.2   \n",
      "19      (E, A)         (D)                 0.2                 0.5      0.2   \n",
      "20         (E)      (D, A)                 0.3                 0.4      0.2   \n",
      "\n",
      "    confidence      lift  leverage  conviction  zhangs_metric  \n",
      "0     0.714286  0.892857     -0.06        0.70      -0.285714  \n",
      "1     0.625000  0.892857     -0.06        0.80      -0.375000  \n",
      "2     0.833333  1.190476      0.08        1.80       0.400000  \n",
      "3     0.714286  1.190476      0.08        1.40       0.533333  \n",
      "4     0.666667  0.833333     -0.08        0.60      -0.333333  \n",
      "5     0.600000  0.750000     -0.10        0.50      -0.400000  \n",
      "6     0.750000  1.071429      0.02        1.20       0.111111  \n",
      "7     0.600000  1.000000      0.00        1.00       0.000000  \n",
      "8     0.600000  1.000000      0.00        1.00       0.000000  \n",
      "9     0.600000  0.857143     -0.05        0.75      -0.250000  \n",
      "10    0.800000  1.000000      0.00        1.00       0.000000  \n",
      "11    0.666667  0.833333     -0.04        0.60      -0.222222  \n",
      "12    0.666667  0.952381     -0.01        0.90      -0.066667  \n",
      "13    0.666667  1.111111      0.02        1.20       0.142857  \n",
      "14    0.666667  0.833333     -0.04        0.60      -0.222222  \n",
      "15    0.666667  1.333333      0.05        1.50       0.357143  \n",
      "16    0.666667  1.111111      0.02        1.20       0.142857  \n",
      "17    0.666667  0.833333     -0.04        0.60      -0.222222  \n",
      "18    1.000000  1.250000      0.04         inf       0.250000  \n",
      "19    1.000000  2.000000      0.10         inf       0.625000  \n",
      "20    0.666667  1.666667      0.08        1.80       0.571429  \n"
     ]
    }
   ],
   "source": [
    "rules=association_rules(frequent_itemsets,metric=\"confidence\",min_threshold=0.6)\n",
    "\n",
    "#Display Association Rules\n",
    "print(\"Association Rules: \")\n",
    "print(rules)"
   ]
  },
  {
   "cell_type": "markdown",
   "id": "83eee8fc-758d-43fa-9c68-cb2aeda5017b",
   "metadata": {},
   "source": [
    "# Answers of given Questions"
   ]
  },
  {
   "cell_type": "code",
   "execution_count": 9,
   "id": "b3405e94-7e4d-42f5-93f1-7c39d11b34fc",
   "metadata": {},
   "outputs": [
    {
     "name": "stdout",
     "output_type": "stream",
     "text": [
      "Maximum Frequent Item: support     0.8\n",
      "itemsets    (A)\n",
      "Name: 0, dtype: object\n"
     ]
    }
   ],
   "source": [
    "# 1. Find Maximum Frequent Item\n",
    "\n",
    "max_freq_item = frequent_itemsets.loc[frequent_itemsets['support'].idxmax()]\n",
    "print(\"Maximum Frequent Item:\", max_freq_item)\n"
   ]
  },
  {
   "cell_type": "code",
   "execution_count": 10,
   "id": "1556e866-281b-4664-b4f1-a86cd6eaad88",
   "metadata": {},
   "outputs": [
    {
     "name": "stdout",
     "output_type": "stream",
     "text": [
      "Number of Transactions: 10\n"
     ]
    }
   ],
   "source": [
    "# 2. Number of Transactions\n",
    "\n",
    "num_transactions = len(transactions)\n",
    "print(\"Number of Transactions:\", num_transactions)\n"
   ]
  },
  {
   "cell_type": "code",
   "execution_count": 11,
   "id": "61547570-5ece-4662-a50c-d300aea0b740",
   "metadata": {},
   "outputs": [
    {
     "name": "stdout",
     "output_type": "stream",
     "text": [
      "Pattern: {'A'}, Support: 0.8\n",
      "Pattern: {'B'}, Support: 0.7\n",
      "Pattern: {'C'}, Support: 0.6\n",
      "Pattern: {'D'}, Support: 0.5\n",
      "Pattern: {'E'}, Support: 0.3\n",
      "Pattern: {'B', 'A'}, Support: 0.5\n",
      "Pattern: {'C', 'B'}, Support: 0.5\n",
      "Pattern: {'C', 'A'}, Support: 0.4\n",
      "Pattern: {'C', 'B', 'A'}, Support: 0.3\n",
      "Pattern: {'C', 'D'}, Support: 0.3\n",
      "Pattern: {'B', 'D'}, Support: 0.3\n",
      "Pattern: {'D', 'A'}, Support: 0.4\n",
      "Pattern: {'C', 'D', 'A'}, Support: 0.2\n",
      "Pattern: {'C', 'B', 'D'}, Support: 0.2\n",
      "Pattern: {'B', 'D', 'A'}, Support: 0.2\n",
      "Pattern: {'D', 'E'}, Support: 0.2\n",
      "Pattern: {'C', 'E'}, Support: 0.2\n",
      "Pattern: {'E', 'A'}, Support: 0.2\n",
      "Pattern: {'D', 'E', 'A'}, Support: 0.2\n"
     ]
    }
   ],
   "source": [
    "# 3. Simulating Frequent Pattern Enumeration based on the FT(Frequent Pattern) tree constructed\n",
    "\n",
    "# Print Frequent Patterns\n",
    "for index, row in frequent_itemsets.iterrows():\n",
    "    print(f\"Pattern: {set(row['itemsets'])}, Support: {row['support']}\")\n"
   ]
  },
  {
   "cell_type": "code",
   "execution_count": 12,
   "id": "afbe4332-4e64-4a38-bf27-0eb645907d73",
   "metadata": {},
   "outputs": [],
   "source": [
    "# 4. Give Comparative analysis of this processs with apriory algorithm"
   ]
  },
  {
   "cell_type": "code",
   "execution_count": 13,
   "id": "c84eefde-9b4a-4628-80ad-d3772ac6a2ba",
   "metadata": {},
   "outputs": [
    {
     "name": "stdout",
     "output_type": "stream",
     "text": [
      "Apriori Frequent Itemsets:\n",
      "    support   itemsets\n",
      "0       0.8        (A)\n",
      "1       0.7        (B)\n",
      "2       0.6        (C)\n",
      "3       0.5        (D)\n",
      "4       0.3        (E)\n",
      "5       0.5     (B, A)\n",
      "6       0.4     (C, A)\n",
      "7       0.4     (D, A)\n",
      "8       0.2     (E, A)\n",
      "9       0.5     (C, B)\n",
      "10      0.3     (B, D)\n",
      "11      0.3     (C, D)\n",
      "12      0.2     (C, E)\n",
      "13      0.2     (D, E)\n",
      "14      0.3  (C, B, A)\n",
      "15      0.2  (B, D, A)\n",
      "16      0.2  (C, D, A)\n",
      "17      0.2  (D, E, A)\n",
      "18      0.2  (C, B, D)\n"
     ]
    },
    {
     "name": "stderr",
     "output_type": "stream",
     "text": [
      "C:\\Users\\HP\\anaconda3\\Lib\\site-packages\\mlxtend\\frequent_patterns\\fpcommon.py:109: DeprecationWarning: DataFrames with non-bool types result in worse computationalperformance and their support might be discontinued in the future.Please use a DataFrame with bool type\n",
      "  warnings.warn(\n"
     ]
    }
   ],
   "source": [
    "from mlxtend.frequent_patterns import apriori\n",
    "\n",
    "# Apply Apriori Algorithm\n",
    "apriori_itemsets = apriori(df, min_support=0.2, use_colnames=True)\n",
    "\n",
    "print(\"Apriori Frequent Itemsets:\")\n",
    "print(apriori_itemsets)\n"
   ]
  },
  {
   "cell_type": "markdown",
   "id": "ac6d848e-9df6-4794-b98f-1bdcbdd79ce9",
   "metadata": {},
   "source": [
    "Observation: \n",
    "\n",
    "1. FP-Growth performs better than Apriori because it does not generate candidate itemsets.\n",
    "\n",
    "2. FP-Growth constructs a tree-based structure and extracts patterns faster."
   ]
  },
  {
   "cell_type": "code",
   "execution_count": null,
   "id": "4e7cb290-89e2-44ec-b348-d125cc9f5e34",
   "metadata": {},
   "outputs": [],
   "source": []
  },
  {
   "cell_type": "code",
   "execution_count": null,
   "id": "9720cd1c-2c21-433b-b34b-3e24ee43e698",
   "metadata": {},
   "outputs": [],
   "source": []
  }
 ],
 "metadata": {
  "kernelspec": {
   "display_name": "Python 3 (ipykernel)",
   "language": "python",
   "name": "python3"
  },
  "language_info": {
   "codemirror_mode": {
    "name": "ipython",
    "version": 3
   },
   "file_extension": ".py",
   "mimetype": "text/x-python",
   "name": "python",
   "nbconvert_exporter": "python",
   "pygments_lexer": "ipython3",
   "version": "3.12.3"
  }
 },
 "nbformat": 4,
 "nbformat_minor": 5
}
