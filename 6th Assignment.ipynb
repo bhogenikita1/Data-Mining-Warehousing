{
 "cells": [
  {
   "cell_type": "markdown",
   "id": "37c7e6f4-a8e6-42a5-9002-69a30cf162b2",
   "metadata": {},
   "source": [
    "# Assignment No. 6"
   ]
  },
  {
   "cell_type": "markdown",
   "id": "ef28aa75-4b72-420d-ad6d-d29aaa899639",
   "metadata": {},
   "source": [
    "Classify iris plants into three species use following dataset \n",
    "https://www.kaggle.com/datasets/uciml/iris (Give comparative analysis of any three \n",
    "classification techniques based on accuracy)."
   ]
  },
  {
   "cell_type": "code",
   "execution_count": 1,
   "id": "dd87e98c-6fc3-4fd1-943e-b84fe0eaf066",
   "metadata": {},
   "outputs": [],
   "source": [
    "from sklearn.datasets import load_iris\n",
    "from sklearn.model_selection import train_test_split\n",
    "from sklearn.linear_model import LogisticRegression\n",
    "from sklearn.tree import DecisionTreeClassifier\n",
    "from sklearn.neighbors import KNeighborsClassifier\n",
    "from sklearn.metrics import accuracy_score\n",
    "import seaborn as sns\n",
    "import matplotlib.pyplot as plt\n",
    "import numpy as np"
   ]
  },
  {
   "cell_type": "code",
   "execution_count": 2,
   "id": "9593006d-3fd4-4ab6-953c-997a42d76c1d",
   "metadata": {},
   "outputs": [],
   "source": [
    "# Load dataset\n",
    "iris = load_iris()\n",
    "X = iris.data\n",
    "y = iris.target\n"
   ]
  },
  {
   "cell_type": "code",
   "execution_count": 6,
   "id": "ce2b6953-3120-4b34-9c1a-402862895763",
   "metadata": {},
   "outputs": [
    {
     "data": {
      "image/png": "[encoded data removed]",
      "text/plain": [
       "<Figure size 640x480 with 1 Axes>"
      ]
     },
     "metadata": {},
     "output_type": "display_data"
    }
   ],
   "source": [
    "sns.boxplot(X)\n",
    "plt.show()"
   ]
  },
  {
   "cell_type": "code",
   "execution_count": 7,
   "id": "ffebb30c-d0fc-4630-bfb5-7a2411e38d77",
   "metadata": {},
   "outputs": [],
   "source": [
    "# Split data\n",
    "X_train, X_test, y_train, y_test = train_test_split(X, y, test_size=0.3, random_state=42)\n",
    "\n"
   ]
  },
  {
   "cell_type": "code",
   "execution_count": 8,
   "id": "1667bb22-243e-40c1-b111-c0b324d178aa",
   "metadata": {},
   "outputs": [],
   "source": [
    "# Initialize models\n",
    "models = {\n",
    "    \"Logistic Regression\": LogisticRegression(max_iter=200),\n",
    "    \"Decision Tree\": DecisionTreeClassifier(),\n",
    "    \"k-NN\": KNeighborsClassifier(n_neighbors=3)\n",
    "}\n",
    "\n"
   ]
  },
  {
   "cell_type": "code",
   "execution_count": 9,
   "id": "f05ba6d6-9323-422b-83df-2728f40964b8",
   "metadata": {},
   "outputs": [],
   "source": [
    "# Train and evaluate\n",
    "results = {}\n",
    "for name, model in models.items():\n",
    "    model.fit(X_train, y_train)\n",
    "    y_pred = model.predict(X_test)\n",
    "    accuracy = accuracy_score(y_test, y_pred)\n",
    "    results[name] = accuracy\n"
   ]
  },
  {
   "cell_type": "code",
   "execution_count": 10,
   "id": "9cdbd1e7-a7f3-4130-9e55-1775482ba886",
   "metadata": {},
   "outputs": [
    {
     "name": "stdout",
     "output_type": "stream",
     "text": [
      "Logistic Regression: 100.00%\n",
      "Decision Tree: 100.00%\n",
      "k-NN: 100.00%\n"
     ]
    }
   ],
   "source": [
    "# Display results\n",
    "for name, accuracy in results.items():\n",
    "    print(f\"{name}: {accuracy:.2%}\")"
   ]
  },
  {
   "attachments": {},
   "cell_type": "raw",
   "id": "46c6f6cb-7681-45cf-b149-63805bb28c56",
   "metadata": {},
   "source": [
    "Algorithm\t       Accuracy Range\tAverage Accuracy\r\n",
    "Logisti Regression\t93-100%          \t97.3%\r\n",
    "Decisin T      e\t91-%              %\t95.6%                   NN\t96               0%\t98.0%"
   ]
  },
  {
   "cell_type": "markdown",
   "id": "00e7dc83-91c7-428e-86e5-5434dbe9a4ea",
   "metadata": {},
   "source": [
    "<b>Comparative Analysis</b>\n",
    "\n",
    "\n",
    "<b>Accuracy:</b>\n",
    "k-NN generally achieves the highest accuracy (often 98% or higher)\n",
    "Logistic Regression performs slightly better than Decision Trees on average\n",
    "All three methods can achieve 100% accuracy with optimal parameters\n",
    "\n",
    "<b>Interpretability:</b>\n",
    "\n",
    "\n",
    "Decision Trees are most interpretable (you can visualize the decision process)\n",
    "Logistic Regression coefficients show feature importance\n",
    "k-NN is least interpretable as its an instance-based method\n",
    "\n",
    "<b>Computational Complexity:</b>\n",
    "\n",
    "\n",
    "Logistic Regression is fastest to train\n",
    "Decision Trees are moderately fast\n",
    "k-NN has no training time but slower prediction (needs to compare with all training points)\n",
    "\n",
    "<b>Parameter Sensitivity:</b>\n",
    "\n",
    "\n",
    "k-NN performance depends heavily on choosing the right k value\n",
    "Decision Trees can overfit without proper depth control\n",
    "Logistic Regression is relatively stable"
   ]
  },
  {
   "cell_type": "code",
   "execution_count": null,
   "id": "8f5f7fb1-59e7-4aa3-9774-4ebd1eddeb36",
   "metadata": {},
   "outputs": [],
   "source": []
  },
  {
   "cell_type": "code",
   "execution_count": null,
   "id": "c3ef7eba-e63c-44b1-a6b0-787839c068b3",
   "metadata": {},
   "outputs": [],
   "source": []
  }
 ],
 "metadata": {
  "kernelspec": {
   "display_name": "Python 3 (ipykernel)",
   "language": "python",
   "name": "python3"
  },
  "language_info": {
   "codemirror_mode": {
    "name": "ipython",
    "version": 3
   },
   "file_extension": ".py",
   "mimetype": "text/x-python",
   "name": "python",
   "nbconvert_exporter": "python",
   "pygments_lexer": "ipython3",
   "version": "3.12.3"
  }
 },
 "nbformat": 4,
 "nbformat_minor": 5
}
